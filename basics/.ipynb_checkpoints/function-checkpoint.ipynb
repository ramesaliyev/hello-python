{
 "cells": [
  {
   "cell_type": "code",
   "execution_count": 5,
   "metadata": {},
   "outputs": [],
   "source": [
    "def initlog(*args):\n",
    "  pass   # pass does nothing"
   ]
  },
  {
   "cell_type": "code",
   "execution_count": 6,
   "metadata": {},
   "outputs": [],
   "source": [
    "def helloworld(name = 'kamil'):\n",
    "  print('hello world', name)"
   ]
  },
  {
   "cell_type": "code",
   "execution_count": 7,
   "metadata": {},
   "outputs": [
    {
     "name": "stdout",
     "output_type": "stream",
     "text": [
      "hello world kamil\n",
      "hello world fadime\n"
     ]
    }
   ],
   "source": [
    "helloworld()\n",
    "helloworld('fadime')"
   ]
  },
  {
   "cell_type": "code",
   "execution_count": 8,
   "metadata": {},
   "outputs": [
    {
     "name": "stdout",
     "output_type": "stream",
     "text": [
      "local globalvar of willmutate 10\n",
      "local globalvar of wontmutate 3\n",
      "da globalvar 10\n"
     ]
    }
   ],
   "source": [
    "globalvar = 5\n",
    "\n",
    "def wontmutate(num):\n",
    "  globalvar = num\n",
    "  print('local globalvar of wontmutate', globalvar)\n",
    "    \n",
    "def willmutate(num):\n",
    "  global globalvar\n",
    "  globalvar = num\n",
    "  print('local globalvar of willmutate', globalvar)\n",
    "\n",
    "willmutate(10)\n",
    "wontmutate(3)\n",
    "\n",
    "print('da globalvar', globalvar)"
   ]
  },
  {
   "cell_type": "code",
   "execution_count": 9,
   "metadata": {},
   "outputs": [
    {
     "name": "stdout",
     "output_type": "stream",
     "text": [
      "[1]\n",
      "[1, 2]\n",
      "[1, 2, 3]\n",
      "[1]\n",
      "[2]\n",
      "[3]\n"
     ]
    }
   ],
   "source": [
    "# The default value is evaluated only once.\n",
    "\n",
    "def f(a, L=[]):\n",
    "  L.append(a)\n",
    "  return L\n",
    "\n",
    "def f2(a, L=None):\n",
    "  if L is None:\n",
    "    L = []\n",
    "  L.append(a)\n",
    "  return L\n",
    "\n",
    "print(f(1))\n",
    "print(f(2))\n",
    "print(f(3))\n",
    "\n",
    "print(f2(1))\n",
    "print(f2(2))\n",
    "print(f2(3))"
   ]
  },
  {
   "cell_type": "code",
   "execution_count": 10,
   "metadata": {},
   "outputs": [
    {
     "name": "stdout",
     "output_type": "stream",
     "text": [
      "a b c\n",
      "x y z\n",
      "1 2 3\n"
     ]
    }
   ],
   "source": [
    "# keyword argument\n",
    "def kword(a='a', b='b', c='c'):\n",
    "  print(a, b, c)\n",
    "\n",
    "kword()\n",
    "kword('x', 'y', 'z')\n",
    "kword(c='3', a='1', b='2')"
   ]
  },
  {
   "cell_type": "code",
   "execution_count": 11,
   "metadata": {},
   "outputs": [
    {
     "name": "stdout",
     "output_type": "stream",
     "text": [
      "1\n",
      "arg 2\n",
      "arg 3\n",
      "----------------------------------------\n",
      "kw _4 : 4\n",
      "kw _5 : 5\n"
     ]
    }
   ],
   "source": [
    "# keywords & arguments\n",
    "def magics(a, *arguments, **keywords):\n",
    "    print(a)\n",
    "    for arg in arguments:\n",
    "        print('arg', arg)\n",
    "    print(\"-\" * 40)\n",
    "    for kw in keywords:\n",
    "        print('kw', kw, \":\", keywords[kw])\n",
    "\n",
    "magics('1', '2', '3', _4='4', _5='5')"
   ]
  },
  {
   "cell_type": "code",
   "execution_count": 12,
   "metadata": {},
   "outputs": [],
   "source": [
    "# def f(pos1, pos2, /, pos_or_kwd, *, kwd1, kwd2):\n",
    "def standard_arg(arg):\n",
    "  print(arg)\n",
    "\n",
    "def pos_only_arg(arg, /):\n",
    "  print(arg)\n",
    "\n",
    "def kwd_only_arg(*, arg):\n",
    "  print(arg)\n",
    "\n",
    "def combined_example(pos_only, /, standard, *, kwd_only):\n",
    "  print(pos_only, standard, kwd_only)"
   ]
  }
 ],
 "metadata": {
  "kernelspec": {
   "display_name": "Python 3.8.1 64-bit",
   "language": "python",
   "name": "python38164bit3a6a652a68ba42b495863be5d56d8ff0"
  },
  "language_info": {
   "codemirror_mode": {
    "name": "ipython",
    "version": 3
   },
   "file_extension": ".py",
   "mimetype": "text/x-python",
   "name": "python",
   "nbconvert_exporter": "python",
   "pygments_lexer": "ipython3",
   "version": "3.8.1"
  }
 },
 "nbformat": 4,
 "nbformat_minor": 4
}
