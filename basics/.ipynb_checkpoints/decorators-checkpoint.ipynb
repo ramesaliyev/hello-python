{
 "cells": [
  {
   "cell_type": "code",
   "execution_count": 4,
   "metadata": {},
   "outputs": [],
   "source": [
    "def parse_float(fn):\n",
    "    def wrapper(number, *args, **kwargs):\n",
    "        number = float(number)\n",
    "        return fn(number, *args, **kwargs)\n",
    "    return wrapper\n",
    "\n",
    "@parse_float\n",
    "def plus_one(num):\n",
    "    return num + 1\n",
    "\n",
    "plus_one(\"54\")"
   ]
  },
  {
   "cell_type": "code",
   "execution_count": 12,
   "metadata": {},
   "outputs": [
    {
     "data": {
      "text/plain": [
       "(10, 20, 30)"
      ]
     },
     "execution_count": 12,
     "metadata": {},
     "output_type": "execute_result"
    }
   ],
   "source": [
    "def multiply_result(factor = 1):\n",
    "    def multiplier(fn):\n",
    "        def function(*args, **kwargs):\n",
    "            return factor * fn(*args, **kwargs)\n",
    "        return function\n",
    "    return multiplier\n",
    "        \n",
    "@multiply_result()       \n",
    "def fn_1(n):\n",
    "    return n + 5\n",
    "\n",
    "@multiply_result(2)       \n",
    "def fn_2(n):\n",
    "    return n + 5\n",
    "\n",
    "@multiply_result(3)       \n",
    "def fn_3(n):\n",
    "    return n + 5\n",
    "\n",
    "\n",
    "fn_1(5), fn_2(5), fn_3(5)"
   ]
  },
  {
   "cell_type": "code",
   "execution_count": 47,
   "metadata": {},
   "outputs": [
    {
     "data": {
      "text/plain": [
       "(10, 13, 20)"
      ]
     },
     "execution_count": 47,
     "metadata": {},
     "output_type": "execute_result"
    }
   ],
   "source": [
    "def multiply_input(factor = 1, argc = 1):\n",
    "    def multiplier(fn):\n",
    "        def function(*args, **kwargs):\n",
    "            argz = [v*factor if i < argc else v for (i,v) in enumerate(list(args))]\n",
    "                \n",
    "            return fn(*argz, **kwargs)\n",
    "        return function\n",
    "    return multiplier\n",
    "\n",
    "@multiply_input()       \n",
    "def sum_2(a, b):\n",
    "    return a + b\n",
    "\n",
    "@multiply_input(2, 1)       \n",
    "def sum_double_first(a, b):\n",
    "    return a + b\n",
    "\n",
    "@multiply_input(2, 2)       \n",
    "def sum_double_both(a, b):\n",
    "    return a + b\n",
    "\n",
    "sum_2(3, 7), sum_double_first(3, 7), sum_double_both(3, 7)"
   ]
  },
  {
   "cell_type": "code",
   "execution_count": null,
   "metadata": {},
   "outputs": [],
   "source": []
  },
  {
   "cell_type": "code",
   "execution_count": null,
   "metadata": {},
   "outputs": [],
   "source": []
  }
 ],
 "metadata": {
  "kernelspec": {
   "display_name": "Python 3.8.1 64-bit",
   "language": "python",
   "name": "python38164bit3a6a652a68ba42b495863be5d56d8ff0"
  },
  "language_info": {
   "codemirror_mode": {
    "name": "ipython",
    "version": 3
   },
   "file_extension": ".py",
   "mimetype": "text/x-python",
   "name": "python",
   "nbconvert_exporter": "python",
   "pygments_lexer": "ipython3",
   "version": "3.8.1"
  }
 },
 "nbformat": 4,
 "nbformat_minor": 4
}
